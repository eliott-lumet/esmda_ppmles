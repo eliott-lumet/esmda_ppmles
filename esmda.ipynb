{
 "cells": [
  {
   "cell_type": "markdown",
   "metadata": {},
   "source": [
    "# ESMDA for parameter estimation in microscale pollutant dispersion \n",
    "\n",
    "This repository provides an example of Python implementation of the Ensemble Smoother with Multiple Data Assimilation (ESMDA) [1] algorithm. In this example, the algorithm is used to estimate meteorological forcing parameters (wind direction and friction velocity) using pollutant concentration measurements. The ESMDA thereby improve the accuracy and robustness of a POD--GPR surrogate model of pollutant dispersion in a simplified urban environment. "
   ]
  },
  {
   "cell_type": "markdown",
   "metadata": {},
   "source": [
    "#### Imports"
   ]
  },
  {
   "cell_type": "code",
   "execution_count": 3,
   "metadata": {},
   "outputs": [],
   "source": [
    "import time\n",
    "import numpy as np\n",
    "\n",
    "from models import MustSurrogate\n",
    "from auxiliaries import log_transform_cut, halton_multivariate_truncated_normal\n",
    "from metrics import nmse, fac2, vg"
   ]
  },
  {
   "cell_type": "markdown",
   "metadata": {},
   "source": [
    "#### Main inputs"
   ]
  },
  {
   "cell_type": "code",
   "execution_count": null,
   "metadata": {},
   "outputs": [],
   "source": [
    "# ESMDA parameters\n",
    "Na = 4                                              # Number of assimilations\n",
    "Ne = 500                                            # Number of members\n",
    "c_anamorphosis = 0.04                               # Threshold used in the concentration anamorphosis\n",
    "\n",
    "# Model input parameters\n",
    "alpha_true = -40.95                                 # Reference inlet wind direction (°) (truth)\n",
    "ustar_true = 0.730                                  # Reference friction velocity (m/s) (truth)\n",
    "alpha_b = -25                                       # Background inlet wind direction (°) (first guess)\n",
    "ustar_b = 0.57                                      # Background friction velocity (m/s) (first guess)\n",
    "sigma_b_alpha = 25.                                 # Background inlet wind direction error std (°) (uncertainty)\n",
    "sigma_b_ustar = 0.09                                # Background friction velocity error std (m/s) (uncertainty)\n",
    "\n",
    "# Model loading\n",
    "model = MustSurrogate(alpha_b, ustar_b)\n",
    "\n",
    "# Observation network selection\n",
    "obs_indexes = [33, 34, 35, 37, 38, 39, 43, 44, 45]  # UVIC sensors at z=1,2,3m at towers B, C, D\n",
    "\n",
    "# Random generator initialization\n",
    "seed_osse = 41                                      # Seed used to generate the idealized observations\n",
    "seed_obs = 31415                                    # Seed used to perturbate the observations in the ESMDA\n",
    "seed_rom = 66261                                    # Seed used to get the random realization of the POD-GPR model\n",
    "rng_osse = np.random.default_rng(seed_osse)         # Initialize random number generator for reproducibility\n",
    "rng_esmda = np.random.default_rng(seed_obs)"
   ]
  },
  {
   "cell_type": "markdown",
   "metadata": {},
   "source": [
    "#### Idealized observations generation\n",
    "In the following, idealized obserations are generated from a reference prediction of the forward model (the 'truth'). This is done by adding a random noise, representative of the real-world observation error, to the predicted tracer concentration at observed location. This provides a simplified framework, called twin experiment or observing system simulation experiment [2], to verify that the ESMDA algorithm works properly. "
   ]
  },
  {
   "cell_type": "code",
   "execution_count": null,
   "metadata": {},
   "outputs": [],
   "source": [
    "# Reference time-averaged concentration field prediction (truth)\n",
    "model.set_parameters(alpha_true, ustar_true)\n",
    "model.forecast()\n",
    "x_true = model.get_avg_state()\n",
    "\n",
    "# Mesh reading\n",
    "mesh_nodes = model.get_mesh_nodes()\n",
    "mesh_conns = model.get_mesh_conns()\n",
    "\n",
    "# Observation operator definition\n",
    "probes_network = np.loadtxt('data/probes_network.dat', skiprows=1, usecols=(2,3,4))\n",
    "Np = len(obs_indexes)\n",
    "obs_nodes = np.zeros(Np, dtype='int')\n",
    "for i, k in enumerate(obs_indexes):  # Search the nodes the closest to the assimilated probes\n",
    "    distances_to_probe = np.sqrt((mesh_nodes[:,0] - probes_network[k,0])**2 \\\n",
    "                                  + (mesh_nodes[:,1] - probes_network[k,1])**2 \\\n",
    "                                  + (mesh_nodes[:,2] - probes_network[k,2])**2)\n",
    "    obs_nodes[i] = np.argmin(distances_to_probe)\n",
    "\n",
    "def H(x, obs_nodes=obs_nodes):  \n",
    "    \"\"\"\n",
    "    Observation operator\n",
    "    \"\"\"\n",
    "    return x[obs_nodes]\n",
    "\n",
    "#TODO: remove\n",
    "probes_names = np.loadtxt('data/probes_network.dat', skiprows=1, usecols=(1), dtype='str')\n",
    "print(probes_names[obs_indexes])\n",
    "\n",
    "# Load the orecomputed observation error covariance matrix \n",
    "R = np.load('../../obs_data/assim_obs/obs_log_error_covariance_matrix.npy')\n",
    "R = R[np.ix_(obs_indexes, obs_indexes)]\n",
    "#   This matrix accounts for the instrument measurement error and the uncertainty \n",
    "#   related to the internal variability of the atmospheric boundary layer.\n",
    "\n",
    "# Synthetic observations generation\n",
    "obs_true = H(x_true)\n",
    "obs_log = log_transform_cut(obs_true, c_anamorphosis)  # Concentration anamoprhosis ln(max(y,0) + c_anamorphosis)\n",
    "y = rng_osse.multivariate_normal(obs_log, R)            # Perturbations to not exactly match the true concentration field"
   ]
  },
  {
   "cell_type": "markdown",
   "metadata": {},
   "source": [
    "#### ESMDA Initialization\n",
    "Sample the background ensemble, which represents the probabilistic prior estimate of the meteorological forcing parameters."
   ]
  },
  {
   "cell_type": "code",
   "execution_count": null,
   "metadata": {},
   "outputs": [],
   "source": [
    "# Dimension and ensemble initialization\n",
    "Np = 2                                       # Parameter space dimension \n",
    "Ns = np.shape(mesh_nodes)[0]                 # State space dimension\n",
    "No = np.shape(y)[0]                          # Observation space dimension\n",
    "Eb = np.zeros((Ne, Np))                      # Background ensemble\n",
    "Ea = np.zeros((Ne, Np))                      # Analysis ensemble vector\n",
    "E_xb = np.zeros((Ne, Ns))                    # Background state ensemble\n",
    "H_E_xb = np.zeros((Ne, No))                  # Background ensemble vector in the observation space\n",
    "\n",
    "# Coefficient in the ESMDA\n",
    "alpha_ESMDA = Na*np.ones(Na)\n",
    "\n",
    "# Background error covariance matrix\n",
    "B = np.eye(Np)                                      \n",
    "B[0,0] = sigma_b_alpha**2\n",
    "B[1,1] = np.log(1 + sigma_b_ustar**2/ustar_b**2)  # Considering friction velocity anamorphosis\n",
    "\n",
    "# Compute the unbiased background parameter vector considering the friction velocity anamorphosis\n",
    "theta_b = np.array([alpha_b, np.log(ustar_b) - 0.5*B[1,1]])\n",
    "\n",
    "# Background ensemble sampling\n",
    "# A truncated normal distribution is used to sample each parameter  to ensure that the model gets well defined parameters\n",
    "# The lower bounds used to truncate the normal distribution before sampling to \n",
    "# ensure compliance with the model input parameter limits\n",
    "lower_bounds = np.array([model._alpha_min, np.log(model._ustar_min)])  \n",
    "upper_bounds = np.array([model._alpha_max, np.inf])    \n",
    "Eb0 = halton_multivariate_truncated_normal(theta_b, B, lower_bounds, upper_bounds, Ne)"
   ]
  },
  {
   "cell_type": "markdown",
   "metadata": {},
   "source": [
    "#### ESMDA parameter estimation algorithm"
   ]
  },
  {
   "cell_type": "code",
   "execution_count": null,
   "metadata": {},
   "outputs": [],
   "source": [
    "time_start = time.time()  # To monitor the ESMDA execution time\n",
    "print('\\n____________________ Data Assimilation Begins ____________________')\n",
    "\n",
    "for j in range(Na):\n",
    "    ### A) Prediction\n",
    "    # Produce an ensemble of perturbed observations\n",
    "    Y = rng_esmda.multivariate_normal(y, alpha_ESMDA[j]*R, Ne)\n",
    "\n",
    "    # Compute the mean of the current ensemble\n",
    "    if j==0:  \n",
    "        Eb = Eb0.copy()\n",
    "\n",
    "    else:  \n",
    "        # We use the analysis of the previous assimilation as background\n",
    "        if np.any((Ea - lower_bounds)<0) or np.any((Ea - upper_bounds)>0):\n",
    "            # If one anlysis member is out of the model input parameter variation ranges, we warn the user:    \n",
    "            print(f\"Warning: {np.sum((Ea - lower_bounds)<0) + np.sum((Ea - upper_bounds)>0)} analysis sample(s) is(are) outisde of the model input parameter variation ranges. Truncated re-sampling will be used.\")\n",
    "            \n",
    "            # We then re-sample an ensemble using a truncated normal distribution based on the analysis ensemble\n",
    "            Eb = halton_multivariate_truncated_normal(np.mean(Ea, axis=0), \n",
    "                                                      np.diag([np.var(Ea[:,0], ddof=1), np.var(Ea[:,1], ddof=1)]),\n",
    "                                                      lower_bounds, upper_bounds, Ne)\n",
    "            \n",
    "        else:\n",
    "            Eb = Ea.copy()\n",
    "\n",
    "    # Forecast to obtain the background state ensemble from the background parameters ensemble\n",
    "    for i in range(Ne):\n",
    "        model.set_parameters(Eb[i,0], np.exp(Eb[i,1]))\n",
    "        E_xb[i] = model.sample_y(n_samples=1, random_state=seed_rom+10*(Ne*j+i))[0]  # Change the seed deterministically for each model evaluation\n",
    "\n",
    "        # Map the ensemble members to the observation space using the observation operator\n",
    "        H_E_xb[i] = H(E_xb[i]) \n",
    "\n",
    "    H_E_xb = log_transform_cut(H_E_xb, c_anamorphosis)  # Use log(max(H(x_b),0) + c_anamorphosis) to compare with obs of log-concentration\n",
    "    H_E_xb_mean = np.mean(H_E_xb, axis=0)\n",
    "\n",
    "    ### B) Analysis\n",
    "    # Compute the Kalman Gain using covariance estimation\n",
    "    theta_b_mean = np.mean(Eb, axis=0)\n",
    "    BGt = np.dot((Eb - theta_b_mean).T, H_E_xb - H_E_xb_mean) / (Ne-1)  \n",
    "    GBGt = np.dot((H_E_xb - H_E_xb_mean).T, H_E_xb - H_E_xb_mean) / (Ne-1)\n",
    "\n",
    "    K = np.matmul(BGt, np.linalg.inv(GBGt + alpha_ESMDA[j]*R))\n",
    "\n",
    "    # Compute the analysis of each ensemble member\n",
    "    for i in range(Ne):\n",
    "        Ea[i] = Eb[i] + np.matmul(K, Y[i] - H_E_xb[i])  # Analysis update\n",
    "\n",
    "    print(f'Assimilation #{j+1}/{Na}')\n",
    "\n",
    "print('\\n\\n_____________________ Data Assimilation Over _____________________\\n')\n",
    "print(f\"Execution time = {time.time() - time_start:.2f}s\")"
   ]
  },
  {
   "cell_type": "markdown",
   "metadata": {},
   "source": [
    "#### Post-processing and evaluation\n",
    "The accuracy of the ESMDA parameter estimation is evaluated using the standard air quality metrics defined by [3]."
   ]
  },
  {
   "cell_type": "code",
   "execution_count": null,
   "metadata": {},
   "outputs": [],
   "source": [
    "### Inverse anamorphosis and statistics computation \n",
    "alpha_a_mean = np.mean(Ea, axis=0)[0]\n",
    "alpha_a_std = np.std(Ea, axis=0, ddof=1)[0]\n",
    "ustar_a_mean = np.mean(Ea, axis=0)[1]\n",
    "ustar_a_std = np.std(Ea, axis=0, ddof=1)[1]\n",
    "\n",
    "### Print analysis parameters prediction\n",
    "print(f\"Analysis alpha_inlet mean estimation: {alpha_a_mean:.2f}°\")\n",
    "print(f\"Analysis ustar mean estimation: {ustar_a_mean:.3f} m/s\")\n",
    "print(f\"Analysis alpha_inlet mean estimation error: {alpha_a_mean - alpha_true:.2f}°\")\n",
    "print(f\"Analysis ustar mean estimation error: {ustar_a_mean - ustar_true:.3f} m/s\")\n",
    "print(f\"Analysis alpha_inlet std deviation estimation: {alpha_a_std:.2f}°\")\n",
    "print(f\"Analysis ustar std deviation estimation: {ustar_a_std:.3f} m/s\")\n",
    "\n",
    "# Compute the mean background and analysis state estimations\n",
    "model.set_parameters(alpha_b, ustar_b)\n",
    "model.forecast()\n",
    "xb = model.get_avg_state()\n",
    "model.set_parameters(alpha_a_mean, ustar_a_mean)\n",
    "model.forecast()\n",
    "xa = model.get_avg_state()\n",
    "\n",
    "# Air quality metrics\n",
    "nmse_a = nmse(xa, x_true)\n",
    "nmse_b = nmse(xb, x_true)\n",
    "fac2_a = fac2(xa, x_true, 1e-4)\n",
    "fac2_b = fac2(xb, x_true, 1e-4)\n",
    "vg_a = vg(xa, x_true, 1e-4)\n",
    "vg_b = vg(xb, x_true, 1e-4)\n",
    "\n",
    "print(f\"\\nAir quality metrics scores (compared to the complete truth field):\")\n",
    "print(f\"\\t *) Background: NMSE = {nmse_b:.2f} | FAC2 = {100*fac2_b:.2f}% | VG = {vg_b:.2f}\")\n",
    "print(f\"\\t *) Analysis:   NMSE = {nmse_a:.2f} | FAC2 = {100*fac2_a:.2f}% | VG = {vg_a:.2f}\")"
   ]
  },
  {
   "cell_type": "markdown",
   "metadata": {},
   "source": [
    "#### References\n",
    "\n",
    "[1] Emerick, A. A. and Reynolds, A. C. (2013). Ensemble smoother with multiple data assimilation. Computers & Geosciences, 55:3–15. DOI: [10.1016/j.cageo.2012.03.011](https://doi.org/10.1016/j.cageo.2012.03.011).\n",
    "\n",
    "[2] Arnold, C. P. and Dey, C. H. (1986). Observing-Systems Simulation Experiments: Past, Present, and Future. Bulletin of the American Meteorological Society, 67(6):687 – 695. DOI: [10.1175/1520-0477(1986)067<0687:OSSEPP>2.0.CO;2](https://doi.org/10.1175/1520-0477(1986)067<0687:OSSEPP>2.0.CO;2)."
   ]
  }
 ],
 "metadata": {
  "kernelspec": {
   "display_name": ".esmda_venv",
   "language": "python",
   "name": "python3"
  },
  "language_info": {
   "codemirror_mode": {
    "name": "ipython",
    "version": 3
   },
   "file_extension": ".py",
   "mimetype": "text/x-python",
   "name": "python",
   "nbconvert_exporter": "python",
   "pygments_lexer": "ipython3",
   "version": "3.9.6"
  }
 },
 "nbformat": 4,
 "nbformat_minor": 2
}
